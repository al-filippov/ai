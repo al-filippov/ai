{
  "nbformat": 4,
  "nbformat_minor": 0,
  "metadata": {
    "colab": {
      "provenance": [],
      "authorship_tag": "ABX9TyM5PyQgrWDfgi5yGxN9RXFr"
    },
    "kernelspec": {
      "name": "python3",
      "display_name": "Python 3"
    },
    "language_info": {
      "name": "python"
    }
  },
  "cells": [
    {
      "cell_type": "markdown",
      "source": [
        "Загрузка данных в среду"
      ],
      "metadata": {
        "id": "YVAZkjYZu7Tp"
      }
    },
    {
      "cell_type": "code",
      "source": [
        "!wget https://raw.githubusercontent.com/al-filippov/ai/main/1/data.csv -O data.csv"
      ],
      "metadata": {
        "id": "ddivHvX3uWDF"
      },
      "execution_count": null,
      "outputs": []
    },
    {
      "cell_type": "markdown",
      "source": [
        "Чтение данных и формирование DataFrame"
      ],
      "metadata": {
        "id": "I9ynOuxTu6xw"
      }
    },
    {
      "cell_type": "code",
      "execution_count": 19,
      "metadata": {
        "colab": {
          "base_uri": "https://localhost:8080/"
        },
        "id": "eqUQyj22pEUP",
        "outputId": "38936c5b-aaca-4131-e8e0-51dc39fe2345"
      },
      "outputs": [
        {
          "output_type": "stream",
          "name": "stdout",
          "text": [
            "     Unnamed: 0    Height     Weight\n",
            "0             0  167.0812  51.242630\n",
            "1             1  181.6608  61.900227\n",
            "2             2  176.2760  69.401361\n",
            "3             3  173.2788  64.553288\n",
            "4             4  172.1866  65.442177\n",
            "..          ...       ...        ...\n",
            "195         195  167.1320  54.802721\n",
            "196         196  167.9194  52.507937\n",
            "197         197  173.3296  58.185941\n",
            "198         198  172.7708  57.809524\n",
            "199         199  181.3306  57.995465\n",
            "\n",
            "[200 rows x 3 columns]\n",
            "200\n"
          ]
        }
      ],
      "source": [
        "import pandas as pd\n",
        "df = pd.read_csv('data.csv')\n",
        "print(df)\n",
        "num_records = df.shape[0]\n",
        "print(num_records)"
      ]
    },
    {
      "cell_type": "markdown",
      "source": [
        "Обучение модели линейной регрессии"
      ],
      "metadata": {
        "id": "HquD4-wzvz6-"
      }
    },
    {
      "cell_type": "code",
      "source": [
        "from sklearn import linear_model\n",
        "x = df['Height'].values.reshape(num_records, 1)\n",
        "y = df['Weight'].values.reshape(num_records, 1)\n",
        "model = linear_model.LinearRegression()\n",
        "_ = model.fit(x,y)\n",
        "print(f'w = {str(model.intercept_[0])} + {str(model.coef_.T[0][0])} x')"
      ],
      "metadata": {
        "colab": {
          "base_uri": "https://localhost:8080/"
        },
        "id": "4OYkFByZvHyD",
        "outputId": "1a76004f-fe0c-4490-e2b0-616a05ee9462"
      },
      "execution_count": 23,
      "outputs": [
        {
          "output_type": "stream",
          "name": "stdout",
          "text": [
            "w = -48.08512764117068 + 0.6129012675686305 x\n"
          ]
        }
      ]
    },
    {
      "cell_type": "markdown",
      "source": [
        "В среднем на каждый килограмм приходится 0,6 см роста."
      ],
      "metadata": {
        "id": "1B2CgY0Ev9ZD"
      }
    },
    {
      "cell_type": "markdown",
      "source": [
        "Оценка ошибки работы модели"
      ],
      "metadata": {
        "id": "3eJTKdzLykXV"
      }
    },
    {
      "cell_type": "code",
      "source": [
        "from sklearn.metrics import mean_absolute_error\n",
        "y_pred = model.predict(x)\n",
        "mae = mean_absolute_error(y, y_pred)\n",
        "print(mae)"
      ],
      "metadata": {
        "colab": {
          "base_uri": "https://localhost:8080/"
        },
        "id": "3p-VQkfPyVsB",
        "outputId": "4e6b99b2-fdfd-414b-d636-90d03554de8c"
      },
      "execution_count": 24,
      "outputs": [
        {
          "output_type": "stream",
          "name": "stdout",
          "text": [
            "3.518701759813252\n"
          ]
        }
      ]
    },
    {
      "cell_type": "markdown",
      "source": [
        "В среднем предсказание отстает от фактического значения на 3,5 кг."
      ],
      "metadata": {
        "id": "JrLR5nEmytq4"
      }
    },
    {
      "cell_type": "code",
      "source": [
        "import matplotlib.pyplot as plt\n",
        "plt.scatter(x, y, color='black')\n",
        "plt.plot(x, y_pred, color='blue', linewidth=3)\n",
        "plt.plot(x, y_pred + mae, color='lightgray')\n",
        "plt.plot(x, y_pred - mae, color='lightgray')\n",
        "plt.xlabel('Рост, см')\n",
        "plt.ylabel('Вес, кг')"
      ],
      "metadata": {
        "colab": {
          "base_uri": "https://localhost:8080/",
          "height": 466
        },
        "id": "r0TbhuiBy6KI",
        "outputId": "343af02b-1447-4186-fc4a-05c83ede1fd2"
      },
      "execution_count": 26,
      "outputs": [
        {
          "output_type": "execute_result",
          "data": {
            "text/plain": [
              "Text(0, 0.5, 'Вес, кг')"
            ]
          },
          "metadata": {},
          "execution_count": 26
        },
        {
          "output_type": "display_data",
          "data": {
            "text/plain": [
              "<Figure size 640x480 with 1 Axes>"
            ],
            "image/png": "[encoded data removed]"
          },
          "metadata": {}
        }
      ]
    },
    {
      "cell_type": "markdown",
      "source": [
        "Определение линейной зависимости (линейная корреляция)"
      ],
      "metadata": {
        "id": "bXhC75uRzSMV"
      }
    },
    {
      "cell_type": "code",
      "source": [
        "from scipy.stats import pearsonr\n",
        "corr, pval = pearsonr(x[:,0], y[:,0])\n",
        "print(corr)\n",
        "print(pval)\n",
        "print(pval < 0.05)"
      ],
      "metadata": {
        "colab": {
          "base_uri": "https://localhost:8080/"
        },
        "id": "uF45zDJkzR-0",
        "outputId": "8a5a0ef5-e0bd-488c-ef45-e086b255bcd1"
      },
      "execution_count": 29,
      "outputs": [
        {
          "output_type": "stream",
          "name": "stdout",
          "text": [
            "0.5568647346122994\n",
            "1.1029015151265851e-17\n",
            "True\n"
          ]
        }
      ]
    },
    {
      "cell_type": "markdown",
      "source": [
        "corr > 0, значит обнаружена линейная зависимость между x и y\n",
        "\n",
        "corr -> 1, присутствует сильная корреляция\n",
        "\n",
        "pval < 5%, значит корреляция присутствует\n"
      ],
      "metadata": {
        "id": "tVUen-uczxXq"
      }
    }
  ]
}